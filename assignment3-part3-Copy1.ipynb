{
 "cells": [
  {
   "cell_type": "code",
   "execution_count": 6,
   "metadata": {},
   "outputs": [],
   "source": [
    "### Finish the Solution Parse Part of Edit Distance\n",
    "from functools import lru_cache\n",
    "def edit_distance(string1: str, string2:str) -> int:\n",
    "    solutions = {}\n",
    "    @lru_cache(maxsize=2**10)\n",
    "    def helper(string1: str, string2:str) -> int:\n",
    "        if len(string1) == 0: \n",
    "            solutions[(string1, string2)] = 'ADD ' + string2\n",
    "            return len(string2)\n",
    "        if len(string2) == 0: \n",
    "            solutions[(string1, string2)] = 'DEL ' + string1\n",
    "            return len(string1)\n",
    "\n",
    "        tail_s1 = string1[-1]\n",
    "        tail_s2 = string2[-1]\n",
    "\n",
    "        candidates = [\n",
    "            (helper(string1[:-1], string2) + 1, 'DEL {}'.format(tail_s1)), # 删除 s1 的尾字母\n",
    "            (helper(string1, string2[:-1]) + 1, 'ADD {}'.format(tail_s2)), # 添加 s2 的尾字母到 s1 的尾部\n",
    "        ]\n",
    "\n",
    "        if tail_s1 == tail_s2:\n",
    "            both_forward = (helper(string1[:-1], string2[:-1]), '')\n",
    "        else:\n",
    "            both_forward = (helper(string1[:-1], string2[:-1])+1, 'SUB {} => {}'.format(tail_s1, tail_s2))\n",
    "\n",
    "        candidates.append(both_forward)\n",
    "\n",
    "        min_distance, operation = min(candidates)\n",
    "\n",
    "        solutions[(string1, string2)] = operation\n",
    "\n",
    "        return min_distance\n",
    "    return helper(string1, string2), solutions"
   ]
  },
  {
   "cell_type": "code",
   "execution_count": 7,
   "metadata": {},
   "outputs": [],
   "source": [
    "string1 = 'ago'\n",
    "string2 = 'again'\n",
    "distance, solutions = edit_distance(string1, string2)"
   ]
  },
  {
   "cell_type": "code",
   "execution_count": 8,
   "metadata": {},
   "outputs": [
    {
     "data": {
      "text/plain": [
       "{('', 'again'): 'ADD again',\n",
       " ('', 'agai'): 'ADD agai',\n",
       " ('', 'aga'): 'ADD aga',\n",
       " ('', 'ag'): 'ADD ag',\n",
       " ('', 'a'): 'ADD a',\n",
       " ('a', ''): 'DEL a',\n",
       " ('', ''): 'ADD ',\n",
       " ('a', 'a'): '',\n",
       " ('a', 'ag'): 'ADD g',\n",
       " ('a', 'aga'): '',\n",
       " ('a', 'agai'): 'ADD i',\n",
       " ('a', 'again'): 'ADD n',\n",
       " ('ag', ''): 'DEL ag',\n",
       " ('ag', 'a'): 'DEL g',\n",
       " ('ag', 'ag'): '',\n",
       " ('ag', 'aga'): 'ADD a',\n",
       " ('ag', 'agai'): 'ADD i',\n",
       " ('ag', 'again'): 'ADD n',\n",
       " ('ago', ''): 'DEL ago',\n",
       " ('ago', 'a'): 'DEL o',\n",
       " ('ago', 'ag'): 'DEL o',\n",
       " ('ago', 'aga'): 'SUB o => a',\n",
       " ('ago', 'agai'): 'ADD i',\n",
       " ('ago', 'again'): 'ADD n'}"
      ]
     },
     "execution_count": 8,
     "metadata": {},
     "output_type": "execute_result"
    }
   ],
   "source": [
    "solutions"
   ]
  },
  {
   "cell_type": "code",
   "execution_count": 9,
   "metadata": {},
   "outputs": [],
   "source": [
    "def parse_solutions(solutions: dict, string1: str, string2: str) -> str:\n",
    "    route = []\n",
    "    def helper(solutions: dict, string1: str, string2: str) -> None:\n",
    "        if not string1 and not string2: return\n",
    "        operation = solutions[(string1, string2)]\n",
    "        route.append('{k}: {v}'.format(k=(string1, string2), v=operation))\n",
    "        if operation.startswith('SUB') or operation == '':\n",
    "            helper(solutions, string1[:-1], string2[:-1])\n",
    "        elif operation.startswith('ADD'):\n",
    "            helper(solutions, string1, string2[:-1])\n",
    "        elif operation.startswith('DEL'):\n",
    "            helper(solutions, string1[:-1], string2)\n",
    "    helper(solutions, string1, string2)\n",
    "    return '->'.join(route)"
   ]
  },
  {
   "cell_type": "code",
   "execution_count": 10,
   "metadata": {},
   "outputs": [
    {
     "data": {
      "text/plain": [
       "\"('ago', 'again'): ADD n->('ago', 'agai'): ADD i->('ago', 'aga'): SUB o => a->('ag', 'ag'): ->('a', 'a'): \""
      ]
     },
     "execution_count": 10,
     "metadata": {},
     "output_type": "execute_result"
    }
   ],
   "source": [
    "parse_solutions(solutions, string1, string2)"
   ]
  },
  {
   "cell_type": "code",
   "execution_count": null,
   "metadata": {},
   "outputs": [],
   "source": [
    "### 在阅读SICP, Structure and Interpretation of Computer Programming 和Fluent Python 两本书，同时参加相应的网上课程"
   ]
  }
 ],
 "metadata": {
  "kernelspec": {
   "display_name": "Python 3",
   "language": "python",
   "name": "python3"
  },
  "language_info": {
   "codemirror_mode": {
    "name": "ipython",
    "version": 3
   },
   "file_extension": ".py",
   "mimetype": "text/x-python",
   "name": "python",
   "nbconvert_exporter": "python",
   "pygments_lexer": "ipython3",
   "version": "3.6.2"
  }
 },
 "nbformat": 4,
 "nbformat_minor": 1
}
